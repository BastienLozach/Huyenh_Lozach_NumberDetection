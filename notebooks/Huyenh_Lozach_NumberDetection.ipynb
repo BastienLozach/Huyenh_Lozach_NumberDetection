{
 "cells": [
  {
   "cell_type": "markdown",
   "metadata": {},
   "source": [
    "# Projet Deep Learning\n",
    "## Valentin Huyenh et Bastien Lozac'h\n",
    "\n",
    "Le projet consiste à entrainer un réseau de neuronne pour identifier le premier chiffre d'une plaque de numéro d'immeuble.\n",
    "Ce sujet a été choisit car il combine à la fois le repérage d'un symbole simple comme un chiffre imprimée mais aussi l'élimination du bruit, vu qu'ici, seul le nombre de gauche nous interesse.\n",
    "\n",
    "Nous utilisons comme base d'image une extraction de la base en ligne suivante :\n",
    "http://ufldl.stanford.edu/housenumbers/\n",
    "\n",
    "Nous avons selectionné un peu moins de 700 images pour faire nos tests.\n"
   ]
  },
  {
   "cell_type": "markdown",
   "metadata": {},
   "source": [
    "# Import\n",
    "\n",
    "On regroupe ici les imports pour simplifier le reste du code"
   ]
  },
  {
   "cell_type": "code",
   "execution_count": 31,
   "metadata": {},
   "outputs": [],
   "source": [
    "import os\n",
    "import glob\n",
    "import numpy as np\n",
    "\n",
    "from keras.applications.vgg16 import VGG16\n",
    "from keras.applications.vgg16 import preprocess_input\n",
    "from keras.applications.vgg16 import decode_predictions\n",
    "from keras.applications.vgg16 import preprocess_input\n",
    "\n",
    "from keras.preprocessing.image import load_img\n",
    "from keras.preprocessing.image import img_to_array\n",
    "\n",
    "from keras.utils import to_categorical\n",
    "\n",
    "from sklearn.model_selection import train_test_split\n",
    "\n",
    "from keras.layers import Flatten\n",
    "\n",
    "from keras import Model\n",
    "from keras.layers import Dense\n",
    "from keras import optimizers\n",
    "\n",
    "from keras.models import Sequential\n",
    "from keras.layers import Dropout\n",
    "from keras.layers import Conv2D, MaxPooling2D\n",
    "from keras import backend as K\n",
    "\n",
    "import keras\n",
    "\n",
    "from PIL import Image\n"
   ]
  },
  {
   "cell_type": "markdown",
   "metadata": {},
   "source": [
    "# I. Transfert Learning\n",
    "\n",
    "Pour le transfert Learning, nous nous somme appuyés sur le model VGG16"
   ]
  },
  {
   "cell_type": "markdown",
   "metadata": {},
   "source": [
    "## A. Lecture du dataset"
   ]
  },
  {
   "cell_type": "code",
   "execution_count": 27,
   "metadata": {},
   "outputs": [
    {
     "name": "stdout",
     "output_type": "stream",
     "text": [
      "1\n",
      "2\n",
      "3\n",
      "4\n",
      "5\n",
      "6\n",
      "7\n",
      "8\n",
      "9\n"
     ]
    }
   ],
   "source": [
    "all_images = []\n",
    "image_arrays = []\n",
    "image_arrays_bw = []\n",
    "all_labels = []\n",
    "for class_id, label in enumerate(os.listdir(\"../data/project_data\")):\n",
    "    print(label)\n",
    "    for filename in glob.glob('../data/project_data/{}/*'.format(label)):\n",
    "        im = load_img(filename, target_size=(224, 224))\n",
    "        all_images.append(im) \n",
    "        image_arrays.append(img_to_array(im))\n",
    "        image_arrays_bw.append(img_to_array(im.convert('L'))) ##version noir et blanc\n",
    "        all_labels.append(class_id)\n",
    "X_bw = np.array(image_arrays_bw)\n",
    "X = preprocess_input(np.array(image_arrays))\n",
    "Y = to_categorical(np.array(all_labels))"
   ]
  },
  {
   "cell_type": "markdown",
   "metadata": {},
   "source": [
    "## B. Séparation entre train et test"
   ]
  },
  {
   "cell_type": "code",
   "execution_count": 3,
   "metadata": {},
   "outputs": [],
   "source": [
    "X_train, X_test, Y_train, Y_test = train_test_split(\n",
    "    X, Y,\n",
    "    test_size=0.15, random_state=42)"
   ]
  },
  {
   "cell_type": "markdown",
   "metadata": {},
   "source": [
    "## C. Récuperation du model VGG16"
   ]
  },
  {
   "cell_type": "code",
   "execution_count": 4,
   "metadata": {},
   "outputs": [],
   "source": [
    "model_cut = VGG16(weights=\"imagenet\", include_top=False,\n",
    "                  input_shape=(224, 224, 3))"
   ]
  },
  {
   "cell_type": "markdown",
   "metadata": {},
   "source": [
    "## D. Création du model"
   ]
  },
  {
   "cell_type": "code",
   "execution_count": 5,
   "metadata": {},
   "outputs": [],
   "source": [
    "## On ne reentraine pas les couches de VGG16\n",
    "for layer in model_cut.layers : \n",
    "\tlayer.trainable = False ;\n",
    "\n",
    "## Output de VGG16\n",
    "x = model_cut.output\n",
    "\n",
    "##Ajout de nos couches\n",
    "prediction_layer = x\n",
    "prediction_layer = Flatten()(prediction_layer)\n",
    "prediction_layer = Dense(15, activation='relu')(prediction_layer)\n",
    "prediction_layer = Dense(9, activation='softmax')(prediction_layer)\n",
    "\n",
    "#Creation de notre modele\n",
    "new_model = Model(\n",
    "    inputs=model_cut.input,\n",
    "    outputs=prediction_layer)\n",
    "\n",
    "# Compiler le modèle \n",
    "new_model.compile(\n",
    "    loss=\"categorical_crossentropy\",\n",
    "    optimizer=optimizers.SGD(lr=0.0001, momentum=0.9),\n",
    "    metrics=[\"accuracy\"])"
   ]
  },
  {
   "cell_type": "markdown",
   "metadata": {},
   "source": [
    "## E. Entrainement"
   ]
  },
  {
   "cell_type": "code",
   "execution_count": 6,
   "metadata": {},
   "outputs": [
    {
     "name": "stdout",
     "output_type": "stream",
     "text": [
      "Epoch 1/5\n",
      "503/503 [==============================] - 275s 548ms/step - loss: 2.6627 - acc: 0.1412\n",
      "Epoch 2/5\n",
      "503/503 [==============================] - 266s 528ms/step - loss: 2.1751 - acc: 0.1829\n",
      "Epoch 3/5\n",
      "503/503 [==============================] - 269s 535ms/step - loss: 2.1662 - acc: 0.1829\n",
      "Epoch 4/5\n",
      "503/503 [==============================] - 278s 554ms/step - loss: 2.1645 - acc: 0.1829\n",
      "Epoch 5/5\n",
      "503/503 [==============================] - 287s 570ms/step - loss: 2.1618 - acc: 0.1829\n"
     ]
    }
   ],
   "source": [
    "epochs = 5 ; ##nombre de passe\n",
    "batch_size = 10##nombre de donnée traité en une fois,bien pour diminuer le cout en mémoire\n",
    "model_info = new_model.fit(\n",
    "    X_train, Y_train,\n",
    "    epochs=epochs, \n",
    "    batch_size=batch_size)"
   ]
  },
  {
   "cell_type": "markdown",
   "metadata": {},
   "source": [
    "## F. Test de prédiction"
   ]
  },
  {
   "cell_type": "code",
   "execution_count": 7,
   "metadata": {},
   "outputs": [
    {
     "data": {
      "text/plain": [
       "array([[0.11149342, 0.11270385, 0.11183861, 0.1112076 , 0.11077846,\n",
       "        0.11115117, 0.11074772, 0.11010646, 0.1099727 ]], dtype=float32)"
      ]
     },
     "execution_count": 7,
     "metadata": {},
     "output_type": "execute_result"
    }
   ],
   "source": [
    "    ##predict\n",
    "index =17\n",
    "image = all_images[index]\n",
    "new_model.predict(image_arrays[index].reshape(1,224,224,3))\n",
    "\n"
   ]
  },
  {
   "cell_type": "code",
   "execution_count": 8,
   "metadata": {},
   "outputs": [
    {
     "data": {
      "image/png": "[encoded data removed]",
      "text/plain": [
       "<PIL.Image.Image image mode=RGB size=224x224 at 0x1AC022B0>"
      ]
     },
     "execution_count": 8,
     "metadata": {},
     "output_type": "execute_result"
    }
   ],
   "source": [
    "image"
   ]
  },
  {
   "cell_type": "markdown",
   "metadata": {},
   "source": [
    "## G. Analyse du Résultat\n",
    "\n",
    "Le résultat que nous obtenons avec ce model n'est pas très bon. Le temps d'entrainement est exessivement long sur nos machines, et la précision reste très faible.\n",
    "\n",
    "C'est surement parce que VGG16 est plus adapté à la reconnaissance d'objet qu'à la reconnaissance de caractères, sans parler de la qualité de nos images, qui sont, il faut bien le reconnaitre, pas très bonne.\n",
    "\n",
    "Nous allons donc essayer de créer notre propre model, de A à Z, pour comparer"
   ]
  },
  {
   "cell_type": "markdown",
   "metadata": {},
   "source": [
    "# II. Deep Learning other Model"
   ]
  },
  {
   "cell_type": "markdown",
   "metadata": {},
   "source": [
    "## A. Initialisation"
   ]
  },
  {
   "cell_type": "code",
   "execution_count": 29,
   "metadata": {},
   "outputs": [],
   "source": [
    "## Nombres de classes différentes\n",
    "nbr_classes = 9\n",
    "\n",
    "# input image dimensions\n",
    "img_rows, img_cols = 224, 224\n",
    "\n",
    "## split\n",
    "X_train, X_test, Y_train, Y_test = train_test_split(X_bw, Y, test_size=0.15, random_state=42)\n",
    "\n",
    "##changer de type pour eviter le troncage lors de la division par 255\n",
    "##valeurs de 0 a 1\n",
    "X_train = X_train.astype('float32')\n",
    "X_test = X_test.astype('float32')\n",
    "X_train /= 255\n",
    "X_test /= 255\n",
    "\n",
    "##test pour verifier la version de keras\n",
    "if K.image_data_format() == 'channels_first':\n",
    "    X_train = X_train.reshape(X_train.shape[0], 1, img_rows, img_cols)\n",
    "    X_test = X_test.reshape(X_test.shape[0], 1, img_rows, img_cols)\n",
    "    input_shape = (1, img_rows, img_cols)\n",
    "else:\n",
    "    X_train = X_train.reshape(X_train.shape[0], img_rows, img_cols, 1)\n",
    "    X_test = X_test.reshape(X_test.shape[0], img_rows, img_cols, 1)\n",
    "    input_shape = (img_rows, img_cols, 1)\n"
   ]
  },
  {
   "cell_type": "markdown",
   "metadata": {},
   "source": [
    "## B. Création du Model"
   ]
  },
  {
   "cell_type": "code",
   "execution_count": 32,
   "metadata": {},
   "outputs": [],
   "source": [
    "simple_model = Sequential()\n",
    "simple_model.add(Conv2D(32, kernel_size=(3, 3),\n",
    "                 activation='relu',\n",
    "                 input_shape=input_shape))\n",
    "    ##Conv2D, permet de lisser l'image pour eliminer les artefacts\n",
    "simple_model.add(Conv2D(64, (3, 3), activation='relu'))\n",
    "simple_model.add(MaxPooling2D(pool_size=(2, 2)))\n",
    "    ##MaxPooling2D, prend la plute forte valeur dans un filtre, ici 2*2\n",
    "simple_model.add(Dropout(0.25))\n",
    "    ##Elimine un pourcentage de neuronne, ici 25%\n",
    "simple_model.add(Flatten())\n",
    "    ##2 dimensions -> 1 dimension\n",
    "simple_model.add(Dense(128, activation='relu'))\n",
    "simple_model.add(Dropout(0.5))\n",
    "simple_model.add(Dense(nbr_classes, activation='softmax'))\n",
    "\n",
    "##Compile\n",
    "simple_model.compile(loss=keras.losses.categorical_crossentropy,\n",
    "              optimizer=keras.optimizers.Adadelta(),\n",
    "              metrics=['accuracy'])\n",
    "\n"
   ]
  },
  {
   "cell_type": "markdown",
   "metadata": {},
   "source": [
    "## C. Entrainement du Model"
   ]
  },
  {
   "cell_type": "code",
   "execution_count": 33,
   "metadata": {},
   "outputs": [
    {
     "name": "stdout",
     "output_type": "stream",
     "text": [
      "Epoch 1/5\n",
      "503/503 [==============================] - 240s 478ms/step - loss: 2.7057 - acc: 0.1590\n",
      "Epoch 2/5\n",
      "503/503 [==============================] - 232s 462ms/step - loss: 2.2254 - acc: 0.1769\n",
      "Epoch 3/5\n",
      "503/503 [==============================] - 255s 506ms/step - loss: 2.1750 - acc: 0.1869\n",
      "Epoch 4/5\n",
      "503/503 [==============================] - 258s 512ms/step - loss: 2.1140 - acc: 0.2346\n",
      "Epoch 5/5\n",
      "503/503 [==============================] - 255s 508ms/step - loss: 1.8412 - acc: 0.3817\n",
      "Test loss: 2.5375995180580055\n",
      "Test accuracy: 0.12359550461340486\n"
     ]
    }
   ],
   "source": [
    "##fit\n",
    "epochs = 5 ; ##nombre de passe\n",
    "batch_size = 10##nombre de donnée traité en une fois,bien pour diminuer le cout en mémoire\n",
    "simple_model.fit(X_train, Y_train, batch_size=batch_size, epochs=epochs)\n",
    "\n",
    "##test du score\n",
    "score = simple_model.evaluate(X_test, Y_test, verbose=0)\n",
    "print('Test loss:', score[0])\n",
    "print('Test accuracy:', score[1])"
   ]
  },
  {
   "cell_type": "markdown",
   "metadata": {},
   "source": [
    "## D. Test du model"
   ]
  },
  {
   "cell_type": "code",
   "execution_count": 37,
   "metadata": {},
   "outputs": [
    {
     "data": {
      "text/plain": [
       "array([[1., 0., 0., 0., 0., 0., 0., 0., 0.]], dtype=float32)"
      ]
     },
     "execution_count": 37,
     "metadata": {},
     "output_type": "execute_result"
    }
   ],
   "source": [
    "    ##predict\n",
    "index =17\n",
    "image = all_images[index]\n",
    "simple_model.predict(image_arrays_bw[index].reshape(1,224,224,1))"
   ]
  },
  {
   "cell_type": "code",
   "execution_count": 38,
   "metadata": {},
   "outputs": [
    {
     "data": {
      "image/png": "[encoded data removed]",
      "text/plain": [
       "<PIL.Image.Image image mode=RGB size=224x224 at 0x1AC0AB38>"
      ]
     },
     "execution_count": 38,
     "metadata": {},
     "output_type": "execute_result"
    }
   ],
   "source": [
    "image"
   ]
  },
  {
   "cell_type": "markdown",
   "metadata": {},
   "source": [
    "## E. Analyse du Résultat\n",
    "\n",
    "Le résultat de ce second model reste mauvais, mais progresse néanmoins rapidement à chaque itération. On peut penser qu'en le laissant tourner plus longtemps, on aurait un résultat correct. Malgré, tout, il faut tout de même se méfier, la précision sur les valeurs de test sont bien plus faible que celle obtenu sur celle de train. Il se peut que le modele aprenne les mauvais pattern, à cause d'un mauvais choix d'image d'entrainement."
   ]
  },
  {
   "cell_type": "markdown",
   "metadata": {},
   "source": [
    "# III. Limites\n",
    "\n",
    "Nos model de Deep Learning ne sont pas très bon, mais notre question est difficile, et nous avons probablement que trop peu d'images (seulement 700) pour réellement avoir des résultats fiables.\n",
    "\n",
    "Celà serait néanmoins interressant de réessayer sur des machines plus performantes et avec un plus grand nombre de boucle, pour voir si c'est un problème de conception, ou juste de temps de calcul."
   ]
  },
  {
   "cell_type": "code",
   "execution_count": null,
   "metadata": {},
   "outputs": [],
   "source": []
  }
 ],
 "metadata": {
  "kernelspec": {
   "display_name": "Python 3",
   "language": "python",
   "name": "python3"
  },
  "language_info": {
   "codemirror_mode": {
    "name": "ipython",
    "version": 3
   },
   "file_extension": ".py",
   "mimetype": "text/x-python",
   "name": "python",
   "nbconvert_exporter": "python",
   "pygments_lexer": "ipython3",
   "version": "3.6.8rc1"
  }
 },
 "nbformat": 4,
 "nbformat_minor": 2
}
